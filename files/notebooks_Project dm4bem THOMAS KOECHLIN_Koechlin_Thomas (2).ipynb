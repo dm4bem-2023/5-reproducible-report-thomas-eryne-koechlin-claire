{
  "cells": [
    {
      "attachments": {},
      "cell_type": "markdown",
      "metadata": {},
      "source": [
        "**Rapport de Claire KOECHLIN et Eryne THOMAS - 31 mai 2023**\n",
        "# Dynamical Model for Building Energy Management"
      ]
    },
    {
      "cell_type": "code",
      "execution_count": 107,
      "metadata": {
        "trusted": true
      },
      "outputs": [],
      "source": [
        "import numpy as np\n",
        "import matplotlib.pyplot as plt\n",
        "import files.dm4bem as dm4bem"
      ]
    },
    {
      "attachments": {},
      "cell_type": "markdown",
      "metadata": {},
      "source": [
        "# Sommaire\n",
        "Partie 1 - Modèle\n",
        ">Description du sujet  \n",
        ">Description des paramètres  \n",
        ">Calcul des Conductances Thermiques  \n",
        ">Calcul des Capacités Thermiques  \n",
        ">Equations Différentielles Algébriques"
      ]
    },
    {
      "attachments": {},
      "cell_type": "markdown",
      "metadata": {},
      "source": [
        "Partie 2 - Régime Permanent\n",
        "> Système d'Equations Différentielles  \n",
        "> Représentation d'état"
      ]
    },
    {
      "attachments": {},
      "cell_type": "markdown",
      "metadata": {},
      "source": [
        "Partie 3 - Modèle Dynamique : Réponse à un échelon  \n",
        ">Détermination du pas de temps  \n",
        ">Détermination du temps total  \n",
        ">Hypothèses de Simulation  \n",
        ">Résolution Numérique"
      ]
    },
    {
      "attachments": {},
      "cell_type": "markdown",
      "metadata": {
        "tags": []
      },
      "source": [
        "## PARTIE 1 - Modèle #  \n",
        "### Description du sujet #"
      ]
    },
    {
      "attachments": {},
      "cell_type": "markdown",
      "metadata": {},
      "source": [
        "![Alt text](Scheme_building_Koechlin_Thomas.png)"
      ]
    },
    {
      "attachments": {},
      "cell_type": "markdown",
      "metadata": {},
      "source": [
        "Les portes et les murs sont en bois, $lambois$ est le coefficient de conductivité, $Csp$ est la capacité spécifique du bois et $mv$ la masse volumique."
      ]
    },
    {
      "cell_type": "code",
      "execution_count": 108,
      "metadata": {
        "trusted": true
      },
      "outputs": [],
      "source": [
        "lambois = 0.077 \n",
        "Csp = 1250\n",
        "mv = 370 #kg/m3"
      ]
    },
    {
      "attachments": {},
      "cell_type": "markdown",
      "metadata": {},
      "source": [
        "$Up$ est le coefficient thermique de la porte, en bois, et $Uf$ est le coeffcient thermique de la fenêtre, prise en double vitrage."
      ]
    },
    {
      "cell_type": "code",
      "execution_count": 109,
      "metadata": {
        "trusted": true
      },
      "outputs": [],
      "source": [
        "Up = 2.5\n",
        "Uf = 1.5"
      ]
    },
    {
      "attachments": {},
      "cell_type": "markdown",
      "metadata": {},
      "source": [
        "On impose la température extérieure et On utilise un controleur dans chaque pièce pour imposer la température intérieure. Il y a également un flux dans chaque pièce lié à la présence de personnes."
      ]
    },
    {
      "attachments": {},
      "cell_type": "markdown",
      "metadata": {},
      "source": [
        "![Alt text](Thermal_circuit.jpeg)"
      ]
    },
    {
      "attachments": {},
      "cell_type": "markdown",
      "metadata": {
        "tags": []
      },
      "source": [
        "### Description des paramètres #\n",
        "$Text$ est la température à l'extérieur et $Tc$ est la température imposée à l'intérieur.  \n",
        "$hconvext$ est le coefficent de convection sur la surface extérieure des murs.  $hconvint$ est le coefficient de convection sur la surface intérieure des murs.  "
      ]
    },
    {
      "cell_type": "code",
      "execution_count": 110,
      "metadata": {
        "trusted": true
      },
      "outputs": [],
      "source": [
        "Text = 5+273\n",
        "Tc = 20+273\n",
        "hconvext = 10 \n",
        "hconvint = 2"
      ]
    },
    {
      "attachments": {},
      "cell_type": "markdown",
      "metadata": {},
      "source": [
        "$emext = 30 mm$ est l'épaisseur des murs en contact avec l'extérieur et $emint = 10 mm$ du mur entre les deux pièces.  \n",
        "$ep = 10 mm$ est l'épaisseur des portes et $ef = 3 mm$ celle des fenêtres.  \n",
        "$Spf = 2m²$ est la surface des portes et des fenêtres.  \n",
        "$Sm1 = 26 m²$ est la surface du mur 1.  \n",
        "$Sm = 28 m²$ est la surface du mur intérieur et du mur 2"
      ]
    },
    {
      "cell_type": "code",
      "execution_count": 111,
      "metadata": {
        "trusted": true
      },
      "outputs": [],
      "source": [
        "emext = 30*(10**(-3))\n",
        "emint = 10*(10**(-3))\n",
        "ep = 10*(10**(-3))\n",
        "ef = 3*(10**(-3))\n",
        "Spf = 2\n",
        "Sm1 = 30-2*Spf\n",
        "Sm = 30-Spf"
      ]
    },
    {
      "attachments": {},
      "cell_type": "markdown",
      "metadata": {},
      "source": [
        "$Q1$ et $Q2$ correspond aux emissions de chaleur par les personnes et appareils présentes dans les pièces 1 et 2, $phi1$ et $phi2$ sont issus du rayonnement du soleil"
      ]
    },
    {
      "cell_type": "code",
      "execution_count": 112,
      "metadata": {},
      "outputs": [],
      "source": [
        "\n",
        "Q1= 300 #1 personne = 80W\n",
        "Q2= 300 \n",
        "E = 100 #éclairement du soleil en W/m2\n",
        "phi1 =E*Sm1*0.8 #corps gris\n",
        "phi2 =E*Sm*0.8 #corps gris"
      ]
    },
    {
      "attachments": {},
      "cell_type": "markdown",
      "metadata": {},
      "source": [
        "Le volume d'air renouvellé par advection est $Va$, et $Vadot$ est le flux d'air.  $rhoair$ est la masse volumique de l'air et $Cair$ est la capacité thermique de l'air."
      ]
    },
    {
      "cell_type": "code",
      "execution_count": 113,
      "metadata": {
        "trusted": true
      },
      "outputs": [],
      "source": [
        "Va = 10*10*3\n",
        "ACH = 1\n",
        "Va_dot = ACH/3600 * Va\n",
        "rhoair = 1.3\n",
        "Cair = 1"
      ]
    },
    {
      "attachments": {},
      "cell_type": "markdown",
      "metadata": {},
      "source": [
        "### Calcul des Conductances Thermiques #\n",
        "#### Advection #\n",
        "$G_{advection} = \\rho_{air} . C_{air}. \\dot{V_{a}}$"
      ]
    },
    {
      "cell_type": "code",
      "execution_count": 114,
      "metadata": {
        "trusted": true
      },
      "outputs": [],
      "source": [
        "Gad = rhoair*Cair*Va_dot"
      ]
    },
    {
      "attachments": {},
      "cell_type": "markdown",
      "metadata": {},
      "source": [
        "#### Convection #\n",
        "$G_{convection} = h.S$  \n",
        "$Gconvext1$ est la convection sur la surface extérieure du mur 1.  $Gconvint1$ est la convection sur la surface intérieure du mur 1.  \n",
        "$Gconvext2$ est la convection sur la surface extérieure du mur 2.  $Gconvint2$ est la convection sur la surface intérieure du mur 2, ainsi que la convection sur les deux surfaces du mur intérieur."
      ]
    },
    {
      "cell_type": "code",
      "execution_count": 115,
      "metadata": {
        "trusted": true
      },
      "outputs": [],
      "source": [
        "Gconvext1 = hconvext*Sm1\n",
        "Gconvint1 = hconvint*Sm1\n",
        "Gconvext2 = hconvext*Sm\n",
        "Gconvint2 = hconvint*Sm "
      ]
    },
    {
      "attachments": {},
      "cell_type": "markdown",
      "metadata": {},
      "source": [
        "#### Conduction #\n",
        "$G_{conduction} = {{\\lambda.S} \\over {e}}$  \n",
        "$Gcondm1$ est la conductivité de la moitié du mur 1, et $Gcondm2$ est la conductivité de la moitié du mur 2."
      ]
    },
    {
      "cell_type": "code",
      "execution_count": 116,
      "metadata": {
        "trusted": true
      },
      "outputs": [],
      "source": [
        "Gcondm1 = lambois*Sm1*2/emext\n",
        "Gcondm2 = lambois*Sm*2/emext"
      ]
    },
    {
      "attachments": {},
      "cell_type": "markdown",
      "metadata": {},
      "source": [
        "#### Controleur #\n",
        "$G_{controleur} = K$"
      ]
    },
    {
      "cell_type": "code",
      "execution_count": 117,
      "metadata": {
        "trusted": true
      },
      "outputs": [],
      "source": [
        "Gc = 10**4"
      ]
    },
    {
      "attachments": {},
      "cell_type": "markdown",
      "metadata": {},
      "source": [
        "#### Conductance Totale du mur intérieur #"
      ]
    },
    {
      "cell_type": "code",
      "execution_count": 118,
      "metadata": {
        "trusted": true
      },
      "outputs": [],
      "source": [
        "Gint = lambois*Spf*2/ep + 1/((2/(Sm*hconvint))+lambois*Sm*2/emint)"
      ]
    },
    {
      "attachments": {},
      "cell_type": "markdown",
      "metadata": {},
      "source": [
        "#### Conductance de la porte et la fenêtre du mur 1\n",
        "On prend en compte l'advection liée à la fenêtre."
      ]
    },
    {
      "cell_type": "code",
      "execution_count": 119,
      "metadata": {
        "trusted": true
      },
      "outputs": [],
      "source": [
        "G1 = Up*Spf+Uf*Spf+Gad"
      ]
    },
    {
      "attachments": {},
      "cell_type": "markdown",
      "metadata": {},
      "source": [
        "#### Conductance de la fenetre du mur 2\n",
        "On prend en compte l'advection liée à la fenêtre."
      ]
    },
    {
      "cell_type": "code",
      "execution_count": 120,
      "metadata": {
        "trusted": true
      },
      "outputs": [],
      "source": [
        "G2 = Uf*Spf+Gad"
      ]
    },
    {
      "attachments": {},
      "cell_type": "markdown",
      "metadata": {},
      "source": [
        "### Calcul des Capacités Thermiques #\n",
        "$C = m.C_{p}$  \n",
        "$massem1$ est la masse du mur 1 et $massem2$ est la masse du mur 2. $C1$ est la capacité thermique du mur 1 et $C2$ est la capacité thermique du mur 2."
      ]
    },
    {
      "cell_type": "code",
      "execution_count": 121,
      "metadata": {
        "trusted": true
      },
      "outputs": [],
      "source": [
        "massem1 = mv*Sm1*emext\n",
        "massem2 = mv*Sm*emext\n",
        "C1 = massem1*Csp\n",
        "C2 = massem2*Csp"
      ]
    },
    {
      "attachments": {},
      "cell_type": "markdown",
      "metadata": {},
      "source": [
        "### Equations Différentielles Algébriques\n",
        "$C.\\dot{\\theta}=-A^T.G.A\\theta+A^T.G.b+f$  \n",
        "Incidence matrix A"
      ]
    },
    {
      "cell_type": "code",
      "execution_count": 122,
      "metadata": {
        "trusted": true
      },
      "outputs": [
        {
          "name": "stdout",
          "output_type": "stream",
          "text": [
            "[[ 1.  0.  0.  0.  0.  0.  0.  0.]\n",
            " [-1.  1.  0.  0.  0.  0.  0.  0.]\n",
            " [ 0. -1.  1.  0.  0.  0.  0.  0.]\n",
            " [ 0.  0. -1.  1.  0.  0.  0.  0.]\n",
            " [ 0.  0.  0.  1.  0.  0.  0.  0.]\n",
            " [ 0.  0.  0. -1.  1.  0.  0.  0.]\n",
            " [ 0.  0.  0.  0.  1. -1.  0.  0.]\n",
            " [ 0.  0.  0.  0.  0.  1. -1.  0.]\n",
            " [ 0.  0.  0.  0.  0.  0.  1. -1.]\n",
            " [ 0.  0.  0.  0.  0.  0.  0.  1.]\n",
            " [ 0.  0.  0.  0.  1.  0.  0.  0.]\n",
            " [ 0.  0.  0.  1.  0.  0.  0.  0.]\n",
            " [ 0.  0.  0.  0.  1.  0.  0.  0.]]\n"
          ]
        }
      ],
      "source": [
        "A = np.zeros((13,8))\n",
        "A[0,0]=1\n",
        "A[1,0]=-1\n",
        "A[1,1]=1\n",
        "A[2,1]=-1\n",
        "A[2,2]=1\n",
        "A[3,2]=-1\n",
        "A[3,3]=1\n",
        "A[4,3]=1\n",
        "A[5,3]=-1\n",
        "A[5,4]=1\n",
        "A[6,4]=1\n",
        "A[6,5]=-1\n",
        "A[7,5]=1\n",
        "A[7,6]=-1\n",
        "A[8,6]=1\n",
        "A[8,7]=-1\n",
        "A[9,7]=1\n",
        "A[10,4]=1\n",
        "A[11,3]=1\n",
        "A[12,4]=1\n",
        "print(A)"
      ]
    },
    {
      "attachments": {},
      "cell_type": "markdown",
      "metadata": {},
      "source": [
        "Conductance matrix G"
      ]
    },
    {
      "cell_type": "code",
      "execution_count": 123,
      "metadata": {
        "trusted": true
      },
      "outputs": [
        {
          "name": "stdout",
          "output_type": "stream",
          "text": [
            "[[2.60000000e+02 0.00000000e+00 0.00000000e+00 0.00000000e+00\n",
            "  0.00000000e+00 0.00000000e+00 0.00000000e+00 0.00000000e+00\n",
            "  0.00000000e+00 0.00000000e+00 0.00000000e+00 0.00000000e+00\n",
            "  0.00000000e+00]\n",
            " [0.00000000e+00 1.33466667e+02 0.00000000e+00 0.00000000e+00\n",
            "  0.00000000e+00 0.00000000e+00 0.00000000e+00 0.00000000e+00\n",
            "  0.00000000e+00 0.00000000e+00 0.00000000e+00 0.00000000e+00\n",
            "  0.00000000e+00]\n",
            " [0.00000000e+00 0.00000000e+00 1.33466667e+02 0.00000000e+00\n",
            "  0.00000000e+00 0.00000000e+00 0.00000000e+00 0.00000000e+00\n",
            "  0.00000000e+00 0.00000000e+00 0.00000000e+00 0.00000000e+00\n",
            "  0.00000000e+00]\n",
            " [0.00000000e+00 0.00000000e+00 0.00000000e+00 5.20000000e+01\n",
            "  0.00000000e+00 0.00000000e+00 0.00000000e+00 0.00000000e+00\n",
            "  0.00000000e+00 0.00000000e+00 0.00000000e+00 0.00000000e+00\n",
            "  0.00000000e+00]\n",
            " [0.00000000e+00 0.00000000e+00 0.00000000e+00 0.00000000e+00\n",
            "  8.10833333e+00 0.00000000e+00 0.00000000e+00 0.00000000e+00\n",
            "  0.00000000e+00 0.00000000e+00 0.00000000e+00 0.00000000e+00\n",
            "  0.00000000e+00]\n",
            " [0.00000000e+00 0.00000000e+00 0.00000000e+00 0.00000000e+00\n",
            "  0.00000000e+00 3.08023189e+01 0.00000000e+00 0.00000000e+00\n",
            "  0.00000000e+00 0.00000000e+00 0.00000000e+00 0.00000000e+00\n",
            "  0.00000000e+00]\n",
            " [0.00000000e+00 0.00000000e+00 0.00000000e+00 0.00000000e+00\n",
            "  0.00000000e+00 0.00000000e+00 5.60000000e+01 0.00000000e+00\n",
            "  0.00000000e+00 0.00000000e+00 0.00000000e+00 0.00000000e+00\n",
            "  0.00000000e+00]\n",
            " [0.00000000e+00 0.00000000e+00 0.00000000e+00 0.00000000e+00\n",
            "  0.00000000e+00 0.00000000e+00 0.00000000e+00 1.43733333e+02\n",
            "  0.00000000e+00 0.00000000e+00 0.00000000e+00 0.00000000e+00\n",
            "  0.00000000e+00]\n",
            " [0.00000000e+00 0.00000000e+00 0.00000000e+00 0.00000000e+00\n",
            "  0.00000000e+00 0.00000000e+00 0.00000000e+00 0.00000000e+00\n",
            "  1.43733333e+02 0.00000000e+00 0.00000000e+00 0.00000000e+00\n",
            "  0.00000000e+00]\n",
            " [0.00000000e+00 0.00000000e+00 0.00000000e+00 0.00000000e+00\n",
            "  0.00000000e+00 0.00000000e+00 0.00000000e+00 0.00000000e+00\n",
            "  0.00000000e+00 2.80000000e+02 0.00000000e+00 0.00000000e+00\n",
            "  0.00000000e+00]\n",
            " [0.00000000e+00 0.00000000e+00 0.00000000e+00 0.00000000e+00\n",
            "  0.00000000e+00 0.00000000e+00 0.00000000e+00 0.00000000e+00\n",
            "  0.00000000e+00 0.00000000e+00 3.10833333e+00 0.00000000e+00\n",
            "  0.00000000e+00]\n",
            " [0.00000000e+00 0.00000000e+00 0.00000000e+00 0.00000000e+00\n",
            "  0.00000000e+00 0.00000000e+00 0.00000000e+00 0.00000000e+00\n",
            "  0.00000000e+00 0.00000000e+00 0.00000000e+00 1.00000000e+04\n",
            "  0.00000000e+00]\n",
            " [0.00000000e+00 0.00000000e+00 0.00000000e+00 0.00000000e+00\n",
            "  0.00000000e+00 0.00000000e+00 0.00000000e+00 0.00000000e+00\n",
            "  0.00000000e+00 0.00000000e+00 0.00000000e+00 0.00000000e+00\n",
            "  1.00000000e+04]]\n"
          ]
        }
      ],
      "source": [
        "G=np.diag([Gconvext1,Gcondm1,Gcondm1,Gconvint1,G1,Gint,Gconvint2,Gcondm2,Gcondm2,Gconvext2,G2,Gc,Gc])\n",
        "print(G)"
      ]
    },
    {
      "attachments": {},
      "cell_type": "markdown",
      "metadata": {},
      "source": [
        "Capacity matrix C"
      ]
    },
    {
      "cell_type": "code",
      "execution_count": 124,
      "metadata": {
        "trusted": true
      },
      "outputs": [
        {
          "name": "stdout",
          "output_type": "stream",
          "text": [
            "[[     0.      0.      0.      0.      0.      0.      0.      0.]\n",
            " [     0. 360750.      0.      0.      0.      0.      0.      0.]\n",
            " [     0.      0.      0.      0.      0.      0.      0.      0.]\n",
            " [     0.      0.      0.      0.      0.      0.      0.      0.]\n",
            " [     0.      0.      0.      0.      0.      0.      0.      0.]\n",
            " [     0.      0.      0.      0.      0.      0.      0.      0.]\n",
            " [     0.      0.      0.      0.      0.      0. 388500.      0.]\n",
            " [     0.      0.      0.      0.      0.      0.      0.      0.]]\n"
          ]
        }
      ],
      "source": [
        "C = np.zeros((8,8))\n",
        "C[1,1]=C1\n",
        "C[6,6]=C2\n",
        "print(C)"
      ]
    },
    {
      "attachments": {},
      "cell_type": "markdown",
      "metadata": {},
      "source": [
        "Inputs - Temperature sources b"
      ]
    },
    {
      "cell_type": "code",
      "execution_count": 125,
      "metadata": {
        "trusted": true
      },
      "outputs": [
        {
          "name": "stdout",
          "output_type": "stream",
          "text": [
            "[278.   0.   0.   0. 278.   0.   0.   0.   0. 278. 278. 293. 293.]\n"
          ]
        }
      ],
      "source": [
        "B = np.zeros(13)\n",
        "B[0]=Text\n",
        "B[4]=Text\n",
        "B[9]=Text\n",
        "B[10]=Text\n",
        "B[11]=Tc\n",
        "B[12]=Tc\n",
        "print(B)"
      ]
    },
    {
      "attachments": {},
      "cell_type": "markdown",
      "metadata": {},
      "source": [
        "Inputs - Flow rate sources f"
      ]
    },
    {
      "cell_type": "code",
      "execution_count": 126,
      "metadata": {
        "trusted": true
      },
      "outputs": [
        {
          "name": "stdout",
          "output_type": "stream",
          "text": [
            "[2080.    0.    0.  300.  300.    0.    0. 2240.]\n"
          ]
        }
      ],
      "source": [
        "f = np.zeros(8)\n",
        "f[0]=phi1\n",
        "f[3]=Q1\n",
        "f[4]=Q2\n",
        "f[7]=phi2\n",
        "print(f)"
      ]
    },
    {
      "attachments": {},
      "cell_type": "markdown",
      "metadata": {},
      "source": [
        "## PARTIE 2 - Régime Permanent #  \n",
        "### Systemes d'Equations différentielles #\n",
        "En régime permanent, on a $\\dot{\\theta}=0$, on résout alors $0=-A^T.G.A\\theta+A^T.G.b+f$  \n"
      ]
    },
    {
      "cell_type": "code",
      "execution_count": 127,
      "metadata": {
        "trusted": true
      },
      "outputs": [
        {
          "name": "stdout",
          "output_type": "stream",
          "text": [
            "[13.7072952  15.08514301 16.46299081 19.99946683 20.0054959  16.46597369\n",
            " 15.08693907 13.70790444]\n"
          ]
        }
      ],
      "source": [
        "AT = np.transpose(A)\n",
        "INV = np.linalg.inv(np.dot(np.dot(AT,G),A))\n",
        "ATGB = np.dot(np.dot(AT,G),B)\n",
        "theta0 = np.dot(INV,ATGB+f)\n",
        "print(theta0-273)"
      ]
    },
    {
      "attachments": {},
      "cell_type": "markdown",
      "metadata": {},
      "source": [
        "### Représentation d'état #\n",
        "On utilise la représentation d'état, on souhaite extraire les valeurs de la température aux noeuds 3 et 4 (dans les deux pièces)"
      ]
    },
    {
      "cell_type": "code",
      "execution_count": 128,
      "metadata": {
        "trusted": true
      },
      "outputs": [],
      "source": [
        "U = np.zeros(10)\n",
        "U[0]=Text\n",
        "U[1]=Text\n",
        "U[2]=Text\n",
        "U[3]=Text\n",
        "U[4]=Tc\n",
        "U[5]=Tc\n",
        "U[6]=phi1\n",
        "U[7]=phi2\n",
        "U[8]=Q1\n",
        "U[9]=Q2\n",
        "Y = np.zeros(8)\n",
        "Y[3]=1\n",
        "Y[4]=1\n",
        "[As, Bs, Cs, Ds] = dm4bem.tc2ss(A, G, B, C, f, Y)"
      ]
    },
    {
      "attachments": {},
      "cell_type": "markdown",
      "metadata": {},
      "source": [
        "On résout alors :"
      ]
    },
    {
      "cell_type": "code",
      "execution_count": 129,
      "metadata": {
        "trusted": true
      },
      "outputs": [
        {
          "name": "stdout",
          "output_type": "stream",
          "text": [
            "[15.14254416 10.21676276]\n"
          ]
        }
      ],
      "source": [
        "theta = -np.dot(np.dot(np.linalg.inv(As),Bs),U)\n",
        "print(theta-273)"
      ]
    },
    {
      "attachments": {},
      "cell_type": "markdown",
      "metadata": {},
      "source": [
        "On remarque que les solutions obtenues avec le systeme différentiel et avec la représentation d'état sont les mêmes."
      ]
    },
    {
      "attachments": {},
      "cell_type": "markdown",
      "metadata": {},
      "source": [
        "## PARTIE 3 - Modèle Dynamique : Réponse à un échelon #  \n",
        "#### Détermination du pas de temps\n",
        "Le pas de temps peut être obtenu avec $dt_{max}= min({{-2} \\over {\\lambda}})$"
      ]
    },
    {
      "cell_type": "code",
      "execution_count": 130,
      "metadata": {},
      "outputs": [
        {
          "name": "stdout",
          "output_type": "stream",
          "text": [
            "5750.12921867831\n"
          ]
        }
      ],
      "source": [
        "eig = np.linalg.eig(As)[0]\n",
        "dtmax = min(-2/eig) \n",
        "print(dtmax)"
      ]
    },
    {
      "attachments": {},
      "cell_type": "markdown",
      "metadata": {},
      "source": [
        "Le pas de temps obtenu est très grand, on choisit un pas de temps plus faible afin de mieux observer les phénomènes."
      ]
    },
    {
      "cell_type": "code",
      "execution_count": 131,
      "metadata": {},
      "outputs": [],
      "source": [
        "dt = dtmax/10"
      ]
    },
    {
      "attachments": {},
      "cell_type": "markdown",
      "metadata": {},
      "source": [
        "#### Détermination du temps total"
      ]
    },
    {
      "attachments": {},
      "cell_type": "markdown",
      "metadata": {},
      "source": [
        "Le temps final correspond à 4 fois la constante de temps maximale. On determine ainsi le temps total de simulation. $n$ est le nombre de pas temporels, et $t$ le vecteur de temps."
      ]
    },
    {
      "cell_type": "code",
      "execution_count": 132,
      "metadata": {},
      "outputs": [],
      "source": [
        "Ti=np.zeros(len(eig))\n",
        "Ti=-1/eig\n",
        "Tset = max(4*Ti)\n",
        "\n",
        "duree = np.ceil(Tset / (3600)) * 3600\n",
        "n = int(np.floor(duree / dt))    # number of time steps\n",
        "t = np.arange(0, n * dt, dt)"
      ]
    },
    {
      "attachments": {},
      "cell_type": "markdown",
      "metadata": {},
      "source": [
        "#### Hypothèses de simulation\n",
        "$u$ correspond aux entrées (Températures, Flux) sur la durée déterminée. $T_{implicite}$ et $T_{explicite}$ sont les températures choisies comme conditions initiales."
      ]
    },
    {
      "cell_type": "code",
      "execution_count": 133,
      "metadata": {},
      "outputs": [],
      "source": [
        "u = np.zeros([len(U), n])\n",
        "for k in range (len(U)):\n",
        "    u[k,:]=U[k]*np.ones([1,n])\n",
        "\n",
        "I = np.eye(2)\n",
        "ns = As.shape[0]\n",
        "Texplicit = np.zeros([ns, t.shape[0]]) \n",
        "Timplicit = np.zeros([ns, t.shape[0]])\n",
        "Texplicit[:, 0]= [275]\n",
        "Timplicit[:,0]=[275]"
      ]
    },
    {
      "attachments": {},
      "cell_type": "markdown",
      "metadata": {},
      "source": [
        "#### Résolution Numérique\n",
        "On résout le système de représentation d'état avec les méthodes Euler implicites et explicites.  \n",
        "Méthode d'Euler Explicite : $ \\theta_{k+1} = (I + \\Delta t A) \\theta_{k} + \\Delta t B u_k $\n",
        "Méthode d'Euler Implicite : $\\theta_{k+1} = (I - \\Delta t A)^{-1} ( \\theta_{k} + \\Delta t B u_k )$"
      ]
    },
    {
      "cell_type": "code",
      "execution_count": 134,
      "metadata": {},
      "outputs": [],
      "source": [
        "for k in range(n - 1):\n",
        "    Texplicit[:, k + 1] = (I + dt * As) @\\\n",
        "        Texplicit[:, k] + dt * Bs @ u[:, k]\n",
        "    Timplicit[:, k + 1] = np.linalg.inv(I - dt * As) @\\\n",
        "        (Timplicit[:, k] + dt * Bs @ u[:, k])\n",
        "\n",
        "yexplicit = Cs @ Texplicit + Ds @  u\n",
        "yimplicit = Cs @ Timplicit + Ds @  u"
      ]
    },
    {
      "attachments": {},
      "cell_type": "markdown",
      "metadata": {},
      "source": [
        "On trace les résultats pour comparer"
      ]
    },
    {
      "cell_type": "code",
      "execution_count": 135,
      "metadata": {},
      "outputs": [
        {
          "data": {
            "image/png": "[encoded data removed]",
            "text/plain": [
              "<Figure size 640x480 with 1 Axes>"
            ]
          },
          "metadata": {},
          "output_type": "display_data"
        }
      ],
      "source": [
        "fig, ax = plt.subplots()\n",
        "ax.plot(t / 3600, yexplicit.T, t / 3600, yimplicit.T)\n",
        "ax.set(xlabel='Time, $t$ / h',\n",
        "       ylabel='Temperatue, $θ_i$ / °c',\n",
        "       title='Step input: outdoor temperature $T_o$')\n",
        "ax.legend(['Explicit T3', 'Explicit T4', 'Implicit T3', 'Implicit T4'])\n",
        "ax.grid()\n",
        "plt.show()"
      ]
    },
    {
      "attachments": {},
      "cell_type": "markdown",
      "metadata": {},
      "source": [
        "## Conclusion\n",
        "La différence obtenue avec les méthodes implicite et explicite est très faible."
      ]
    }
  ],
  "metadata": {
    "kernelspec": {
      "display_name": "Python 3 (ipykernel)",
      "language": "python",
      "name": "python3"
    },
    "language_info": {
      "codemirror_mode": {
        "name": "ipython",
        "version": 3
      },
      "file_extension": ".py",
      "mimetype": "text/x-python",
      "name": "python",
      "nbconvert_exporter": "python",
      "pygments_lexer": "ipython3",
      "version": "3.10.4"
    }
  },
  "nbformat": 4,
  "nbformat_minor": 4
}
